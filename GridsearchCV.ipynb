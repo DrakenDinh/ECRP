{
 "cells": [
  {
   "cell_type": "markdown",
   "metadata": {},
   "source": [
    "1. RF"
   ]
  },
  {
   "cell_type": "code",
   "execution_count": null,
   "metadata": {},
   "outputs": [],
   "source": [
    "# Hyperparameter tuning for Random Forest using GridSearchCV\n",
    "param_grid = {\n",
    "    'random_state': [42],\n",
    "    'criterion': ['gini', 'entropy', 'log_loss'],\n",
    "    'n_estimators': [100, 200, 300, 400],\n",
    "    'max_depth': [None, 10, 20, 30],\n",
    "    'min_samples_split': [2, 4, 5, 6],\n",
    "    'min_samples_leaf': [1, 2, 3, 4],\n",
    "    'max_features': ['sqrt', 'log2', None],\n",
    "}\n",
    "\n",
    "rf_classifier = RandomForestClassifier()\n",
    "grid_search = GridSearchCV(estimator=rf_classifier, param_grid=param_grid, scoring=None, n_jobs=None, refit=True, cv=5, return_train_score=False)\n",
    "grid_search.fit(X_scaled, y_resampled)\n",
    "# Best parameters from GridSearchCV\n",
    "print(\"Best parameters found by GridSearchCV:\", grid_search.best_params_)\n",
    "rf_classifier = grid_search.best_estimator_\n",
    "\n",
    "# Export grid search results to a DataFrame\n",
    "results_df = pd.DataFrame(grid_search.cv_results_)\n",
    "results_df = results_df[['param_random_state','param_criterion', 'param_n_estimators', 'param_max_depth', 'param_min_samples_split', 'param_min_samples_leaf', 'param_max_features', 'mean_test_score', 'std_test_score', 'rank_test_score']]\n",
    "results_df = results_df.sort_values(by='rank_test_score')\n",
    "print(\"GridSearchCV Results:\")\n",
    "print(results_df)\n",
    "\n",
    "# Save results to CSV\n",
    "results_df.to_csv('gridsearch_rf_results.csv', index=False)\n",
    "print(\"GridSearchCV results saved to 'gridsearch_rf_results.csv'\")\n"
   ]
  },
  {
   "cell_type": "markdown",
   "metadata": {},
   "source": [
    "2. KNN"
   ]
  },
  {
   "cell_type": "code",
   "execution_count": null,
   "metadata": {},
   "outputs": [],
   "source": [
    "# Hyperparameter tuning for K-nearest Neighbors using GridSearchCV\n",
    "param_grid_knn = {\n",
    "    'n_neighbors': [3, 4, 5, 6, 7],\n",
    "    'weights': ['uniform', 'distance'],\n",
    "    'algorithm': ['auto', 'ball_tree', 'kd_tree', 'brute'],\n",
    "    'leaf_size': [10, 20, 30, 40],\n",
    "    'p': [1, 2, 3, 4, 5],\n",
    "    'metric': ['minkowski', 'euclidean', 'manhattan']\n",
    "}\n",
    "\n",
    "knn_classifier = KNeighborsClassifier()\n",
    "grid_search_knn = GridSearchCV(estimator=knn_classifier, param_grid=param_grid_knn, scoring=None, n_jobs=None, refit=True, cv=5, return_train_score=False)\n",
    "grid_search_knn.fit(X_scaled, y_resampled)\n",
    "\n",
    "# Best parameters from GridSearchCV\n",
    "print(\"Best parameters found by GridSearchCV for KNN:\", grid_search_knn.best_params_)\n",
    "knn_classifier = grid_search_knn.best_estimator_\n",
    "\n",
    "# Export grid search results to a DataFrame\n",
    "results_df_knn = pd.DataFrame(grid_search_knn.cv_results_)\n",
    "results_df_knn = results_df_knn[['param_n_neighbors', 'param_weights', 'param_algorithm', 'param_leaf_size', 'param_p', 'param_metric', 'mean_test_score', 'std_test_score', 'rank_test_score']]\n",
    "results_df_knn = results_df_knn.sort_values(by='rank_test_score')\n",
    "print(\"GridSearchCV Results for KNN:\")\n",
    "print(results_df_knn)\n",
    "\n",
    "# Save results to CSV\n",
    "results_df_knn.to_csv('gridsearch_knn_results.csv', index=False)\n",
    "print(\"GridSearchCV results for KNN saved to 'gridsearch_knn_results.csv'\")"
   ]
  },
  {
   "cell_type": "markdown",
   "metadata": {},
   "source": [
    "3. SVM"
   ]
  },
  {
   "cell_type": "code",
   "execution_count": null,
   "metadata": {},
   "outputs": [],
   "source": [
    "# Hyperparameter tuning for Support Vector Machine using GridSearchCV\n",
    "param_grid_svm = {\n",
    "    'random_state': [42],\n",
    "    'C': [0.1, 0.5, 1, 2, 3, 4, 5, 6, 7, 8, 9, 10],\n",
    "    'kernel': ['linear']\n",
    "}\n",
    "\n",
    "svm_classifier = SVC()\n",
    "grid_search_svm = GridSearchCV(estimator=svm_classifier, param_grid=param_grid_svm, scoring=None, n_jobs=None, refit=True, cv=5, return_train_score=False)\n",
    "grid_search_svm.fit(X_scaled, y_resampled)\n",
    "\n",
    "# Best parameters from GridSearchCV\n",
    "print(\"Best parameters found by GridSearchCV for SVM:\", grid_search_svm.best_params_)\n",
    "svm_classifier = grid_search_svm.best_estimator_\n",
    "\n",
    "# Export grid search results to a DataFrame\n",
    "results_df_svm = pd.DataFrame(grid_search_svm.cv_results_)\n",
    "results_df_svm = results_df_svm[['param_C', 'param_kernel', 'mean_test_score', 'std_test_score', 'rank_test_score']]\n",
    "results_df_svm = results_df_svm.sort_values(by='rank_test_score')\n",
    "print(\"GridSearchCV Results for SVM:\")\n",
    "print(results_df_svm)\n",
    "\n",
    "# Save results to CSV\n",
    "results_df_svm.to_csv('gridsearch_svm_results.csv', index=False)\n",
    "print(\"GridSearchCV results for SVM saved to 'gridsearch_svm_results.csv'\")"
   ]
  },
  {
   "cell_type": "markdown",
   "metadata": {},
   "source": [
    "4. DT"
   ]
  },
  {
   "cell_type": "code",
   "execution_count": null,
   "metadata": {},
   "outputs": [],
   "source": [
    "# Hyperparameter tuning for Decision Tree using GridSearchCV\n",
    "param_grid_dt = {\n",
    "    'random_state': [42],\n",
    "    'criterion': ['gini', 'entropy', 'log_loss'],\n",
    "    'splitter': ['best', 'random'],\n",
    "    'max_depth': [None, 3, 5, 10],\n",
    "    'min_samples_split': [2, 3, 4, 5],\n",
    "    'min_samples_leaf': [1, 2, 3, 4],\n",
    "    'max_features': [None, 'sqrt', 'log2'],\n",
    "    'ccp_alpha': [0.0, 0.05, 0.1],\n",
    "    'min_impurity_decrease': [0.0, 0.01, 0.05],\n",
    "}\n",
    "\n",
    "dt_classifier = DecisionTreeClassifier(random_state=42)\n",
    "grid_search_dt = GridSearchCV(estimator=dt_classifier, param_grid=param_grid_dt, scoring=None, n_jobs=None, refit=True, cv=5, return_train_score=False)\n",
    "grid_search_dt.fit(X_scaled, y_resampled)\n",
    "\n",
    "# Best parameters from GridSearchCV\n",
    "print(\"Best parameters found by GridSearchCV for Decision Tree:\", grid_search_dt.best_params_)\n",
    "dt_classifier = grid_search_dt.best_estimator_\n",
    "\n",
    "# Export grid search results to a DataFrame\n",
    "results_df_dt = pd.DataFrame(grid_search_dt.cv_results_)\n",
    "results_df_dt = results_df_dt[['param_random_state', 'param_criterion', 'param_max_depth', 'param_min_samples_split', 'param_min_samples_leaf', 'mean_test_score', 'std_test_score', 'rank_test_score']]\n",
    "results_df_dt = results_df_dt.sort_values(by='rank_test_score')\n",
    "print(\"GridSearchCV Results for Decision Tree:\")\n",
    "print(results_df_dt)\n",
    "\n",
    "# Save results to CSV\n",
    "results_df_dt.to_csv('gridsearch_dt_results.csv', index=False)\n",
    "print(\"GridSearchCV results for Decision Tree saved to 'gridsearch_dt_results.csv'\")\n",
    "\n"
   ]
  }
 ],
 "metadata": {
  "kernelspec": {
   "display_name": "Python 3 (ipykernel)",
   "language": "python",
   "name": "python3"
  },
  "language_info": {
   "codemirror_mode": {
    "name": "ipython",
    "version": 3
   },
   "file_extension": ".py",
   "mimetype": "text/x-python",
   "name": "python",
   "nbconvert_exporter": "python",
   "pygments_lexer": "ipython3",
   "version": "3.12.2"
  }
 },
 "nbformat": 4,
 "nbformat_minor": 4
}
