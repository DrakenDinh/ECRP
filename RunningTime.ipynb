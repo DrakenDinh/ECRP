{
 "cells": [
  {
   "cell_type": "code",
   "execution_count": null,
   "id": "9e2a8115-a780-4b90-aeb9-89cc98dc6770",
   "metadata": {},
   "outputs": [],
   "source": [
    "import time\n",
    "\n",
    "# Start the timer\n",
    "start_time = time.time()\n",
    "\n",
    "# Your code (your classifier algorithms)\n",
    "\n",
    "\n",
    "# Calculate and print the total time taken\n",
    "end_time = time.time()\n",
    "print(f\"\\nTotal time taken for the entire process: {end_time - start_time:.2f} seconds\")"
   ]
  }
 ],
 "metadata": {
  "kernelspec": {
   "display_name": "Python 3 (ipykernel)",
   "language": "python",
   "name": "python3"
  },
  "language_info": {
   "codemirror_mode": {
    "name": "ipython",
    "version": 3
   },
   "file_extension": ".py",
   "mimetype": "text/x-python",
   "name": "python",
   "nbconvert_exporter": "python",
   "pygments_lexer": "ipython3",
   "version": "3.12.2"
  }
 },
 "nbformat": 4,
 "nbformat_minor": 5
}
